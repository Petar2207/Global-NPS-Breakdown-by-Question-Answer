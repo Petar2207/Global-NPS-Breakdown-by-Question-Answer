{
  "nbformat": 4,
  "nbformat_minor": 0,
  "metadata": {
    "colab": {
      "provenance": []
    },
    "kernelspec": {
      "name": "python3",
      "display_name": "Python 3"
    },
    "language_info": {
      "name": "python"
    }
  },
  "cells": [
    {
      "cell_type": "code",
      "source": [
        "import pandas as pd\n",
        "from sklearn.preprocessing import StandardScaler"
      ],
      "metadata": {
        "id": "0DPVOj2yX82R"
      },
      "execution_count": null,
      "outputs": []
    },
    {
      "cell_type": "code",
      "source": [
        "# Upload your CSV from local\n",
        "from google.colab import files\n",
        "uploaded = files.upload()\n",
        "\n",
        "# Load it into a DataFrame\n",
        "import pandas as pd\n",
        "df=pd.read_excel(\"survey.xlsx\")\n",
        "\n"
      ],
      "metadata": {
        "id": "xAMhMYDVhw2p"
      },
      "execution_count": null,
      "outputs": []
    },
    {
      "cell_type": "code",
      "source": [
        "df.head()"
      ],
      "metadata": {
        "id": "QneRbSIp3xQl"
      },
      "execution_count": null,
      "outputs": []
    },
    {
      "cell_type": "code",
      "source": [
        "# List the columns you want to drop\n",
        "columns_to_drop = ['survey_id', 'survey_year', 'end_date']  # Replace with actual column names\n",
        "\n",
        "# Drop the columns\n",
        "df = df.drop(columns=columns_to_drop)"
      ],
      "metadata": {
        "id": "bqmB-W5wocic"
      },
      "execution_count": null,
      "outputs": []
    },
    {
      "cell_type": "code",
      "source": [
        "df = df.drop(columns='combination_type')"
      ],
      "metadata": {
        "id": "5O4kqiDmpclS"
      },
      "execution_count": null,
      "outputs": []
    },
    {
      "cell_type": "code",
      "source": [
        "df = df[df['answer_value'] != 12]"
      ],
      "metadata": {
        "id": "lH8P-JV34dVR"
      },
      "execution_count": null,
      "outputs": []
    },
    {
      "cell_type": "code",
      "source": [
        "df_883 = df[df['question_id'] == 883]"
      ],
      "metadata": {
        "id": "glc8Ycl9Ej0x"
      },
      "execution_count": null,
      "outputs": []
    },
    {
      "cell_type": "code",
      "source": [
        "df_883 = df_883.drop(columns='answer_value')"
      ],
      "metadata": {
        "id": "ZMGS7IwhG89H"
      },
      "execution_count": null,
      "outputs": []
    },
    {
      "cell_type": "code",
      "source": [
        "df_883 = df_883.drop(columns='result_code')"
      ],
      "metadata": {
        "id": "2dX9rwQAIFH2"
      },
      "execution_count": null,
      "outputs": []
    },
    {
      "cell_type": "code",
      "source": [
        "df_883 = df_883.drop(columns='question_id')"
      ],
      "metadata": {
        "id": "C_nazphQIMCV"
      },
      "execution_count": null,
      "outputs": []
    },
    {
      "cell_type": "code",
      "source": [
        "df_883 = df_883.drop(columns='question_text')"
      ],
      "metadata": {
        "id": "aTqkYxaYIRK9"
      },
      "execution_count": null,
      "outputs": []
    },
    {
      "cell_type": "code",
      "source": [
        "df_883.head()"
      ],
      "metadata": {
        "id": "-jwiG07cH85I"
      },
      "execution_count": null,
      "outputs": []
    },
    {
      "cell_type": "code",
      "source": [
        "df_869 = df[df['question_id'] == 869]"
      ],
      "metadata": {
        "id": "IXsowj5DEnkr"
      },
      "execution_count": null,
      "outputs": []
    },
    {
      "cell_type": "code",
      "source": [
        "df_869 = df_869[['result_id', 'answer_value']]"
      ],
      "metadata": {
        "id": "vEAhj_KOGQBY"
      },
      "execution_count": null,
      "outputs": []
    },
    {
      "cell_type": "code",
      "source": [
        "df_869 = df_869[df_869['answer_value'] != 6]"
      ],
      "metadata": {
        "id": "qUPpzxybKZbF"
      },
      "execution_count": null,
      "outputs": []
    },
    {
      "cell_type": "code",
      "source": [
        "df_869.head()"
      ],
      "metadata": {
        "colab": {
          "base_uri": "https://localhost:8080/",
          "height": 206
        },
        "id": "CgUHHnA_E0yG",
        "outputId": "f9cc1feb-9eef-42a9-8317-c31586eb74da",
        "collapsed": true
      },
      "execution_count": null,
      "outputs": [
        {
          "output_type": "execute_result",
          "data": {
            "text/plain": [
              "   result_id  answer_value\n",
              "1     116234             1\n",
              "3     116235             2\n",
              "5     116236             1\n",
              "7     116237             1\n",
              "9     116238             1"
            ],
            "text/html": [
              "\n",
              "  <div id=\"df-949aab34-fe72-464a-a6c9-d8474e504064\" class=\"colab-df-container\">\n",
              "    <div>\n",
              "<style scoped>\n",
              "    .dataframe tbody tr th:only-of-type {\n",
              "        vertical-align: middle;\n",
              "    }\n",
              "\n",
              "    .dataframe tbody tr th {\n",
              "        vertical-align: top;\n",
              "    }\n",
              "\n",
              "    .dataframe thead th {\n",
              "        text-align: right;\n",
              "    }\n",
              "</style>\n",
              "<table border=\"1\" class=\"dataframe\">\n",
              "  <thead>\n",
              "    <tr style=\"text-align: right;\">\n",
              "      <th></th>\n",
              "      <th>result_id</th>\n",
              "      <th>answer_value</th>\n",
              "    </tr>\n",
              "  </thead>\n",
              "  <tbody>\n",
              "    <tr>\n",
              "      <th>1</th>\n",
              "      <td>116234</td>\n",
              "      <td>1</td>\n",
              "    </tr>\n",
              "    <tr>\n",
              "      <th>3</th>\n",
              "      <td>116235</td>\n",
              "      <td>2</td>\n",
              "    </tr>\n",
              "    <tr>\n",
              "      <th>5</th>\n",
              "      <td>116236</td>\n",
              "      <td>1</td>\n",
              "    </tr>\n",
              "    <tr>\n",
              "      <th>7</th>\n",
              "      <td>116237</td>\n",
              "      <td>1</td>\n",
              "    </tr>\n",
              "    <tr>\n",
              "      <th>9</th>\n",
              "      <td>116238</td>\n",
              "      <td>1</td>\n",
              "    </tr>\n",
              "  </tbody>\n",
              "</table>\n",
              "</div>\n",
              "    <div class=\"colab-df-buttons\">\n",
              "\n",
              "  <div class=\"colab-df-container\">\n",
              "    <button class=\"colab-df-convert\" onclick=\"convertToInteractive('df-949aab34-fe72-464a-a6c9-d8474e504064')\"\n",
              "            title=\"Convert this dataframe to an interactive table.\"\n",
              "            style=\"display:none;\">\n",
              "\n",
              "  <svg xmlns=\"http://www.w3.org/2000/svg\" height=\"24px\" viewBox=\"0 -960 960 960\">\n",
              "    <path d=\"M120-120v-720h720v720H120Zm60-500h600v-160H180v160Zm220 220h160v-160H400v160Zm0 220h160v-160H400v160ZM180-400h160v-160H180v160Zm440 0h160v-160H620v160ZM180-180h160v-160H180v160Zm440 0h160v-160H620v160Z\"/>\n",
              "  </svg>\n",
              "    </button>\n",
              "\n",
              "  <style>\n",
              "    .colab-df-container {\n",
              "      display:flex;\n",
              "      gap: 12px;\n",
              "    }\n",
              "\n",
              "    .colab-df-convert {\n",
              "      background-color: #E8F0FE;\n",
              "      border: none;\n",
              "      border-radius: 50%;\n",
              "      cursor: pointer;\n",
              "      display: none;\n",
              "      fill: #1967D2;\n",
              "      height: 32px;\n",
              "      padding: 0 0 0 0;\n",
              "      width: 32px;\n",
              "    }\n",
              "\n",
              "    .colab-df-convert:hover {\n",
              "      background-color: #E2EBFA;\n",
              "      box-shadow: 0px 1px 2px rgba(60, 64, 67, 0.3), 0px 1px 3px 1px rgba(60, 64, 67, 0.15);\n",
              "      fill: #174EA6;\n",
              "    }\n",
              "\n",
              "    .colab-df-buttons div {\n",
              "      margin-bottom: 4px;\n",
              "    }\n",
              "\n",
              "    [theme=dark] .colab-df-convert {\n",
              "      background-color: #3B4455;\n",
              "      fill: #D2E3FC;\n",
              "    }\n",
              "\n",
              "    [theme=dark] .colab-df-convert:hover {\n",
              "      background-color: #434B5C;\n",
              "      box-shadow: 0px 1px 3px 1px rgba(0, 0, 0, 0.15);\n",
              "      filter: drop-shadow(0px 1px 2px rgba(0, 0, 0, 0.3));\n",
              "      fill: #FFFFFF;\n",
              "    }\n",
              "  </style>\n",
              "\n",
              "    <script>\n",
              "      const buttonEl =\n",
              "        document.querySelector('#df-949aab34-fe72-464a-a6c9-d8474e504064 button.colab-df-convert');\n",
              "      buttonEl.style.display =\n",
              "        google.colab.kernel.accessAllowed ? 'block' : 'none';\n",
              "\n",
              "      async function convertToInteractive(key) {\n",
              "        const element = document.querySelector('#df-949aab34-fe72-464a-a6c9-d8474e504064');\n",
              "        const dataTable =\n",
              "          await google.colab.kernel.invokeFunction('convertToInteractive',\n",
              "                                                    [key], {});\n",
              "        if (!dataTable) return;\n",
              "\n",
              "        const docLinkHtml = 'Like what you see? Visit the ' +\n",
              "          '<a target=\"_blank\" href=https://colab.research.google.com/notebooks/data_table.ipynb>data table notebook</a>'\n",
              "          + ' to learn more about interactive tables.';\n",
              "        element.innerHTML = '';\n",
              "        dataTable['output_type'] = 'display_data';\n",
              "        await google.colab.output.renderOutput(dataTable, element);\n",
              "        const docLink = document.createElement('div');\n",
              "        docLink.innerHTML = docLinkHtml;\n",
              "        element.appendChild(docLink);\n",
              "      }\n",
              "    </script>\n",
              "  </div>\n",
              "\n",
              "\n",
              "    <div id=\"df-068a9612-e74e-4299-8fa2-987c598e5b6e\">\n",
              "      <button class=\"colab-df-quickchart\" onclick=\"quickchart('df-068a9612-e74e-4299-8fa2-987c598e5b6e')\"\n",
              "                title=\"Suggest charts\"\n",
              "                style=\"display:none;\">\n",
              "\n",
              "<svg xmlns=\"http://www.w3.org/2000/svg\" height=\"24px\"viewBox=\"0 0 24 24\"\n",
              "     width=\"24px\">\n",
              "    <g>\n",
              "        <path d=\"M19 3H5c-1.1 0-2 .9-2 2v14c0 1.1.9 2 2 2h14c1.1 0 2-.9 2-2V5c0-1.1-.9-2-2-2zM9 17H7v-7h2v7zm4 0h-2V7h2v10zm4 0h-2v-4h2v4z\"/>\n",
              "    </g>\n",
              "</svg>\n",
              "      </button>\n",
              "\n",
              "<style>\n",
              "  .colab-df-quickchart {\n",
              "      --bg-color: #E8F0FE;\n",
              "      --fill-color: #1967D2;\n",
              "      --hover-bg-color: #E2EBFA;\n",
              "      --hover-fill-color: #174EA6;\n",
              "      --disabled-fill-color: #AAA;\n",
              "      --disabled-bg-color: #DDD;\n",
              "  }\n",
              "\n",
              "  [theme=dark] .colab-df-quickchart {\n",
              "      --bg-color: #3B4455;\n",
              "      --fill-color: #D2E3FC;\n",
              "      --hover-bg-color: #434B5C;\n",
              "      --hover-fill-color: #FFFFFF;\n",
              "      --disabled-bg-color: #3B4455;\n",
              "      --disabled-fill-color: #666;\n",
              "  }\n",
              "\n",
              "  .colab-df-quickchart {\n",
              "    background-color: var(--bg-color);\n",
              "    border: none;\n",
              "    border-radius: 50%;\n",
              "    cursor: pointer;\n",
              "    display: none;\n",
              "    fill: var(--fill-color);\n",
              "    height: 32px;\n",
              "    padding: 0;\n",
              "    width: 32px;\n",
              "  }\n",
              "\n",
              "  .colab-df-quickchart:hover {\n",
              "    background-color: var(--hover-bg-color);\n",
              "    box-shadow: 0 1px 2px rgba(60, 64, 67, 0.3), 0 1px 3px 1px rgba(60, 64, 67, 0.15);\n",
              "    fill: var(--button-hover-fill-color);\n",
              "  }\n",
              "\n",
              "  .colab-df-quickchart-complete:disabled,\n",
              "  .colab-df-quickchart-complete:disabled:hover {\n",
              "    background-color: var(--disabled-bg-color);\n",
              "    fill: var(--disabled-fill-color);\n",
              "    box-shadow: none;\n",
              "  }\n",
              "\n",
              "  .colab-df-spinner {\n",
              "    border: 2px solid var(--fill-color);\n",
              "    border-color: transparent;\n",
              "    border-bottom-color: var(--fill-color);\n",
              "    animation:\n",
              "      spin 1s steps(1) infinite;\n",
              "  }\n",
              "\n",
              "  @keyframes spin {\n",
              "    0% {\n",
              "      border-color: transparent;\n",
              "      border-bottom-color: var(--fill-color);\n",
              "      border-left-color: var(--fill-color);\n",
              "    }\n",
              "    20% {\n",
              "      border-color: transparent;\n",
              "      border-left-color: var(--fill-color);\n",
              "      border-top-color: var(--fill-color);\n",
              "    }\n",
              "    30% {\n",
              "      border-color: transparent;\n",
              "      border-left-color: var(--fill-color);\n",
              "      border-top-color: var(--fill-color);\n",
              "      border-right-color: var(--fill-color);\n",
              "    }\n",
              "    40% {\n",
              "      border-color: transparent;\n",
              "      border-right-color: var(--fill-color);\n",
              "      border-top-color: var(--fill-color);\n",
              "    }\n",
              "    60% {\n",
              "      border-color: transparent;\n",
              "      border-right-color: var(--fill-color);\n",
              "    }\n",
              "    80% {\n",
              "      border-color: transparent;\n",
              "      border-right-color: var(--fill-color);\n",
              "      border-bottom-color: var(--fill-color);\n",
              "    }\n",
              "    90% {\n",
              "      border-color: transparent;\n",
              "      border-bottom-color: var(--fill-color);\n",
              "    }\n",
              "  }\n",
              "</style>\n",
              "\n",
              "      <script>\n",
              "        async function quickchart(key) {\n",
              "          const quickchartButtonEl =\n",
              "            document.querySelector('#' + key + ' button');\n",
              "          quickchartButtonEl.disabled = true;  // To prevent multiple clicks.\n",
              "          quickchartButtonEl.classList.add('colab-df-spinner');\n",
              "          try {\n",
              "            const charts = await google.colab.kernel.invokeFunction(\n",
              "                'suggestCharts', [key], {});\n",
              "          } catch (error) {\n",
              "            console.error('Error during call to suggestCharts:', error);\n",
              "          }\n",
              "          quickchartButtonEl.classList.remove('colab-df-spinner');\n",
              "          quickchartButtonEl.classList.add('colab-df-quickchart-complete');\n",
              "        }\n",
              "        (() => {\n",
              "          let quickchartButtonEl =\n",
              "            document.querySelector('#df-068a9612-e74e-4299-8fa2-987c598e5b6e button');\n",
              "          quickchartButtonEl.style.display =\n",
              "            google.colab.kernel.accessAllowed ? 'block' : 'none';\n",
              "        })();\n",
              "      </script>\n",
              "    </div>\n",
              "\n",
              "    </div>\n",
              "  </div>\n"
            ],
            "application/vnd.google.colaboratory.intrinsic+json": {
              "type": "dataframe",
              "variable_name": "df_869",
              "summary": "{\n  \"name\": \"df_869\",\n  \"rows\": 8835,\n  \"fields\": [\n    {\n      \"column\": \"result_id\",\n      \"properties\": {\n        \"dtype\": \"number\",\n        \"std\": 4045,\n        \"min\": 116234,\n        \"max\": 130863,\n        \"num_unique_values\": 8835,\n        \"samples\": [\n          128903,\n          124717,\n          119281\n        ],\n        \"semantic_type\": \"\",\n        \"description\": \"\"\n      }\n    },\n    {\n      \"column\": \"answer_value\",\n      \"properties\": {\n        \"dtype\": \"number\",\n        \"std\": 0,\n        \"min\": 1,\n        \"max\": 5,\n        \"num_unique_values\": 5,\n        \"samples\": [\n          2,\n          4,\n          3\n        ],\n        \"semantic_type\": \"\",\n        \"description\": \"\"\n      }\n    }\n  ]\n}"
            }
          },
          "metadata": {},
          "execution_count": 16
        }
      ]
    },
    {
      "cell_type": "code",
      "source": [
        "df=pd.merge(df_883, df_869,on=\"result_id\", how=\"inner\")"
      ],
      "metadata": {
        "id": "RTm-P452GGIu"
      },
      "execution_count": null,
      "outputs": []
    },
    {
      "cell_type": "code",
      "source": [
        "df.head()"
      ],
      "metadata": {
        "id": "2JQwZ9nKMYl8"
      },
      "execution_count": null,
      "outputs": []
    },
    {
      "cell_type": "code",
      "source": [
        "df.isnull().sum().sort_values(ascending=False)"
      ],
      "metadata": {
        "id": "LRHAmh4r5r_z"
      },
      "execution_count": null,
      "outputs": []
    },
    {
      "cell_type": "code",
      "source": [
        "counts = df['result_id'].nunique()"
      ],
      "metadata": {
        "id": "x2Q_ZcnT2sKc"
      },
      "execution_count": null,
      "outputs": []
    },
    {
      "cell_type": "code",
      "source": [
        "customer_names = df['customer_name'].unique()"
      ],
      "metadata": {
        "collapsed": true,
        "id": "M9wl3J-M95rm"
      },
      "execution_count": null,
      "outputs": []
    },
    {
      "cell_type": "code",
      "source": [
        "lista=[\"answer_value\"]"
      ],
      "metadata": {
        "id": "c-2n1f5Y8JFr"
      },
      "execution_count": null,
      "outputs": []
    },
    {
      "cell_type": "code",
      "source": [
        "summary_data = []\n",
        "\n",
        "for k in customer_names:\n",
        "    customer_df = df[df['customer_name'] == k]\n",
        "    df_top = customer_df[[\"customer_name\", \"combination_value\", \"answer_value\"]].copy()\n",
        "    x = \"answer_value\"\n",
        "    if k == 'xy':\n",
        "        user_groups = customer_df['usergroup'].unique()\n",
        "        for idx, m in enumerate(user_groups, start=1):\n",
        "          user_df = customer_df[customer_df['usergroup'] == m]\n",
        "\n",
        "          # Rename\n",
        "          new_name = f\"{k} - AD {idx}\"\n",
        "          mask = (customer_df['customer_name'] == 'xy') & (customer_df['usergroup'] == m)\n",
        "          customer_df.loc[mask, 'customer_name'] = new_name\n",
        "\n",
        "          for z in range(1, 6):\n",
        "              df_top = user_df[user_df[x] == z].copy()\n",
        "              df_top['NPS_Category'] = df_top['combination_value']\n",
        "              promoters = len(df_top[df_top['NPS_Category'] == 'Promoter'])\n",
        "              detractors = len(df_top[df_top['NPS_Category'] == 'Detractor'])\n",
        "              total = len(df_top)\n",
        "              passives = total - promoters - detractors\n",
        "\n",
        "              summary_data.append({\n",
        "                  'Customer Name': new_name,\n",
        "                  'User Group': f\"AD {idx}\",\n",
        "                  'Value': z,\n",
        "                  'Total Responses': total,\n",
        "                  'Promoters': promoters,\n",
        "                  'Passives': passives,\n",
        "                  'Detractors': detractors,\n",
        "              })\n",
        "\n",
        "          # ✅ Now add the \"Insgesamt\" row per AD group\n",
        "          df_all_ad = user_df.copy()\n",
        "          df_all_ad['NPS_Category'] = df_all_ad['combination_value']\n",
        "          promoters = len(df_all_ad[df_all_ad['NPS_Category'] == 'Promoter'])\n",
        "          detractors = len(df_all_ad[df_all_ad['NPS_Category'] == 'Detractor'])\n",
        "          total = len(df_all_ad)\n",
        "          passives = total - promoters - detractors\n",
        "\n",
        "          summary_data.append({\n",
        "              'Customer Name': new_name,\n",
        "              'User Group': f\"AD {idx}\",\n",
        "              'Value': 'Insgesamt',\n",
        "              'Total Responses': total,\n",
        "              'Promoters': promoters,\n",
        "              'Passives': passives,\n",
        "              'Detractors': detractors\n",
        "          })\n",
        "\n",
        "    else:\n",
        "        for z in range(1, 6):\n",
        "            df_top = customer_df[customer_df[x] == z].copy()\n",
        "            df_top['NPS_Category'] = df_top['combination_value']\n",
        "            promoters = len(df_top[df_top['NPS_Category'] == 'Promoter'])\n",
        "            detractors = len(df_top[df_top['NPS_Category'] == 'Detractor'])\n",
        "            total = len(df_top)\n",
        "            passives=total-promoters-detractors\n",
        "\n",
        "            summary_data.append({\n",
        "                'Customer Name': k,\n",
        "                'User Group': 'All',\n",
        "                'Value': z,\n",
        "                'Total Responses': total,\n",
        "                'Promoters': promoters,\n",
        "                'Passives' : passives,\n",
        "                'Detractors': detractors,\n",
        "            })\n",
        "\n",
        "        df_all = customer_df.copy()\n",
        "        df_all['NPS_Category'] = df_all['combination_value']\n",
        "        promoters = len(df_all[df_all['NPS_Category'] == 'Promoter'])\n",
        "        detractors = len(df_all[df_all['NPS_Category'] == 'Detractor'])\n",
        "        total = len(df_all)\n",
        "\n",
        "        summary_data.append({\n",
        "            'Customer Name': k,\n",
        "            'User Group': 'All',\n",
        "            'Value': 'Insgesamt',\n",
        "            'Total Responses': total,\n",
        "            'Promoters': promoters,\n",
        "            'Passives' : passives,\n",
        "            'Detractors': detractors\n",
        "        })\n",
        "\n",
        "# === Create summary DataFrame ===\n",
        "summary_df = pd.DataFrame(summary_data)\n",
        "\n",
        "# === Weighting logic ===\n",
        "unique_customers = summary_df['Customer Name'].nunique()\n",
        "weight_base = counts / unique_customers\n",
        "\n",
        "\n",
        "summary_df['Weight_Base'] = weight_base\n",
        "\n",
        "customer_totals = summary_df[summary_df['Value'] == 'Insgesamt'].set_index('Customer Name')['Total Responses'].to_dict()\n",
        "\n",
        "summary_df['Weight_Company'] = summary_df['Customer Name'].map(customer_totals).apply(\n",
        "    lambda x: weight_base / x if x > 0 else None\n",
        ")\n",
        "\n",
        "summary_df['Weighted_total'] = summary_df['Total Responses'] * summary_df['Weight_Company']\n",
        "summary_df['Weighted_Promoters'] = summary_df['Promoters'] * summary_df['Weight_Company']\n",
        "summary_df['Weighted_Detractors'] = summary_df['Detractors'] * summary_df['Weight_Company']\n",
        "summary_df['Weighted_Passives'] = summary_df['Passives'] * summary_df['Weight_Company']"
      ],
      "metadata": {
        "id": "M9ZMZ07rbM9e"
      },
      "execution_count": null,
      "outputs": []
    },
    {
      "cell_type": "code",
      "source": [
        "summary_df\n"
      ],
      "metadata": {
        "id": "P8by_-JpZnQS"
      },
      "execution_count": null,
      "outputs": []
    },
    {
      "cell_type": "code",
      "source": [
        "import pandas as pd\n",
        "\n",
        "# Step 1: Create an empty DataFrame with two columns\n",
        "df_final = pd.DataFrame(columns=['NAME', 'PROMOTORS'])\n",
        "\n",
        "# Step 2: Add rows in a loop\n",
        "for i in summary_df:  # Change the range as needed\n",
        "    value1 = f\"Value{i}\"\n",
        "    value2 = i * 10\n",
        "    df_final.loc[len(df)] = [value1, value2]  # Append a new row\n",
        "\n",
        "# Step 3: Display the DataFrame\n",
        "df_final.head()"
      ],
      "metadata": {
        "id": "LqKWck-DIuRZ"
      },
      "execution_count": null,
      "outputs": []
    },
    {
      "cell_type": "code",
      "source": [
        "import pandas as pd\n",
        "\n",
        "# Group by 'Value' and sum both 'Weighted_Promoters' and 'Weighted_Detractors'\n",
        "df_final = summary_df.groupby('Value', as_index=False)[['Weighted_Promoters', 'Weighted_Passives', 'Weighted_Detractors', 'Weighted_total']].sum()\n",
        "\n",
        "# Optional: rename columns for clarity\n",
        "df_final.rename(columns={\n",
        "    'Weighted_Promoters': 'Sum_Weighted_Promoters',\n",
        "    'Weighted_Detractors': 'Sum_Weighted_Detractors',\n",
        "    'Weighted_Passives': 'Sum_Weighted_Passives'\n",
        "}, inplace=True)"
      ],
      "metadata": {
        "id": "AmKgWt5NELoO"
      },
      "execution_count": null,
      "outputs": []
    },
    {
      "cell_type": "code",
      "source": [
        "df_final[\"pos_pro\"] = ((df_final[\"Sum_Weighted_Promoters\"] / df_final[\"Weighted_total\"])) * 100\n",
        "df_final['pos_pas'] = ((df_final['Sum_Weighted_Passives'] / df_final[\"Weighted_total\"])) * 100\n",
        "df_final[\"pos_det\"] = (df_final[\"Sum_Weighted_Detractors\"] / df_final[\"Weighted_total\"]) * 100\n"
      ],
      "metadata": {
        "id": "F87ICGLNMlA8"
      },
      "execution_count": null,
      "outputs": []
    },
    {
      "cell_type": "code",
      "source": [
        "df_final[\"nps\"]=df_final[\"pos_pro\"]-df_final[\"pos_det\"]"
      ],
      "metadata": {
        "id": "hox-D5SbgItn"
      },
      "execution_count": null,
      "outputs": []
    },
    {
      "cell_type": "code",
      "source": [
        "df_final"
      ],
      "metadata": {
        "id": "dLhqqWjDM1G5"
      },
      "execution_count": null,
      "outputs": []
    }
  ]
}